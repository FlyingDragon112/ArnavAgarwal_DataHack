{
  "nbformat": 4,
  "nbformat_minor": 0,
  "metadata": {
    "colab": {
      "provenance": []
    },
    "kernelspec": {
      "name": "python3",
      "display_name": "Python 3"
    },
    "language_info": {
      "name": "python"
    }
  },
  "cells": [
    {
      "cell_type": "code",
      "execution_count": null,
      "metadata": {
        "colab": {
          "base_uri": "https://localhost:8080/",
          "height": 255
        },
        "id": "yWFya5d0geG8",
        "outputId": "b1689f22-f410-42f6-b0a2-fe6311fa33eb"
      },
      "outputs": [
        {
          "output_type": "execute_result",
          "data": {
            "text/plain": [
              "   respondent_id  xyz_concern  xyz_knowledge  behavioral_antiviral_meds  \\\n",
              "0              0          1.0            0.0                        0.0   \n",
              "1              1          3.0            2.0                        0.0   \n",
              "3              3          1.0            1.0                        0.0   \n",
              "4              4          2.0            1.0                        0.0   \n",
              "5              5          3.0            1.0                        0.0   \n",
              "\n",
              "   behavioral_avoidance  behavioral_face_mask  behavioral_wash_hands  \\\n",
              "0                   0.0                   0.0                    0.0   \n",
              "1                   1.0                   0.0                    1.0   \n",
              "3                   1.0                   0.0                    1.0   \n",
              "4                   1.0                   0.0                    1.0   \n",
              "5                   1.0                   0.0                    1.0   \n",
              "\n",
              "   behavioral_large_gatherings  behavioral_outside_home  \\\n",
              "0                          0.0                      1.0   \n",
              "1                          0.0                      1.0   \n",
              "3                          1.0                      0.0   \n",
              "4                          1.0                      0.0   \n",
              "5                          0.0                      0.0   \n",
              "\n",
              "   behavioral_touch_face  ...  education  race  sex  marital_status  \\\n",
              "0                    1.0  ...          3     0    0               1   \n",
              "1                    1.0  ...          2     0    1               1   \n",
              "3                    0.0  ...          2     0    0               1   \n",
              "4                    1.0  ...          1     0    0               0   \n",
              "5                    1.0  ...          2     0    1               0   \n",
              "\n",
              "   rent_or_own  employment_status  household_adults  household_children  \\\n",
              "0            0                  2               0.0                 0.0   \n",
              "1            1                  0               0.0                 0.0   \n",
              "3            1                  2               0.0                 0.0   \n",
              "4            0                  0               1.0                 0.0   \n",
              "5            0                  0               2.0                 3.0   \n",
              "\n",
              "   xyz_vaccine  seasonal_vaccine  \n",
              "0            0                 0  \n",
              "1            0                 1  \n",
              "3            0                 1  \n",
              "4            0                 0  \n",
              "5            0                 0  \n",
              "\n",
              "[5 rows x 32 columns]"
            ],
            "text/html": [
              "\n",
              "  <div id=\"df-062e82cd-5bbd-4c65-862f-41983eb8b22c\" class=\"colab-df-container\">\n",
              "    <div>\n",
              "<style scoped>\n",
              "    .dataframe tbody tr th:only-of-type {\n",
              "        vertical-align: middle;\n",
              "    }\n",
              "\n",
              "    .dataframe tbody tr th {\n",
              "        vertical-align: top;\n",
              "    }\n",
              "\n",
              "    .dataframe thead th {\n",
              "        text-align: right;\n",
              "    }\n",
              "</style>\n",
              "<table border=\"1\" class=\"dataframe\">\n",
              "  <thead>\n",
              "    <tr style=\"text-align: right;\">\n",
              "      <th></th>\n",
              "      <th>respondent_id</th>\n",
              "      <th>xyz_concern</th>\n",
              "      <th>xyz_knowledge</th>\n",
              "      <th>behavioral_antiviral_meds</th>\n",
              "      <th>behavioral_avoidance</th>\n",
              "      <th>behavioral_face_mask</th>\n",
              "      <th>behavioral_wash_hands</th>\n",
              "      <th>behavioral_large_gatherings</th>\n",
              "      <th>behavioral_outside_home</th>\n",
              "      <th>behavioral_touch_face</th>\n",
              "      <th>...</th>\n",
              "      <th>education</th>\n",
              "      <th>race</th>\n",
              "      <th>sex</th>\n",
              "      <th>marital_status</th>\n",
              "      <th>rent_or_own</th>\n",
              "      <th>employment_status</th>\n",
              "      <th>household_adults</th>\n",
              "      <th>household_children</th>\n",
              "      <th>xyz_vaccine</th>\n",
              "      <th>seasonal_vaccine</th>\n",
              "    </tr>\n",
              "  </thead>\n",
              "  <tbody>\n",
              "    <tr>\n",
              "      <th>0</th>\n",
              "      <td>0</td>\n",
              "      <td>1.0</td>\n",
              "      <td>0.0</td>\n",
              "      <td>0.0</td>\n",
              "      <td>0.0</td>\n",
              "      <td>0.0</td>\n",
              "      <td>0.0</td>\n",
              "      <td>0.0</td>\n",
              "      <td>1.0</td>\n",
              "      <td>1.0</td>\n",
              "      <td>...</td>\n",
              "      <td>3</td>\n",
              "      <td>0</td>\n",
              "      <td>0</td>\n",
              "      <td>1</td>\n",
              "      <td>0</td>\n",
              "      <td>2</td>\n",
              "      <td>0.0</td>\n",
              "      <td>0.0</td>\n",
              "      <td>0</td>\n",
              "      <td>0</td>\n",
              "    </tr>\n",
              "    <tr>\n",
              "      <th>1</th>\n",
              "      <td>1</td>\n",
              "      <td>3.0</td>\n",
              "      <td>2.0</td>\n",
              "      <td>0.0</td>\n",
              "      <td>1.0</td>\n",
              "      <td>0.0</td>\n",
              "      <td>1.0</td>\n",
              "      <td>0.0</td>\n",
              "      <td>1.0</td>\n",
              "      <td>1.0</td>\n",
              "      <td>...</td>\n",
              "      <td>2</td>\n",
              "      <td>0</td>\n",
              "      <td>1</td>\n",
              "      <td>1</td>\n",
              "      <td>1</td>\n",
              "      <td>0</td>\n",
              "      <td>0.0</td>\n",
              "      <td>0.0</td>\n",
              "      <td>0</td>\n",
              "      <td>1</td>\n",
              "    </tr>\n",
              "    <tr>\n",
              "      <th>3</th>\n",
              "      <td>3</td>\n",
              "      <td>1.0</td>\n",
              "      <td>1.0</td>\n",
              "      <td>0.0</td>\n",
              "      <td>1.0</td>\n",
              "      <td>0.0</td>\n",
              "      <td>1.0</td>\n",
              "      <td>1.0</td>\n",
              "      <td>0.0</td>\n",
              "      <td>0.0</td>\n",
              "      <td>...</td>\n",
              "      <td>2</td>\n",
              "      <td>0</td>\n",
              "      <td>0</td>\n",
              "      <td>1</td>\n",
              "      <td>1</td>\n",
              "      <td>2</td>\n",
              "      <td>0.0</td>\n",
              "      <td>0.0</td>\n",
              "      <td>0</td>\n",
              "      <td>1</td>\n",
              "    </tr>\n",
              "    <tr>\n",
              "      <th>4</th>\n",
              "      <td>4</td>\n",
              "      <td>2.0</td>\n",
              "      <td>1.0</td>\n",
              "      <td>0.0</td>\n",
              "      <td>1.0</td>\n",
              "      <td>0.0</td>\n",
              "      <td>1.0</td>\n",
              "      <td>1.0</td>\n",
              "      <td>0.0</td>\n",
              "      <td>1.0</td>\n",
              "      <td>...</td>\n",
              "      <td>1</td>\n",
              "      <td>0</td>\n",
              "      <td>0</td>\n",
              "      <td>0</td>\n",
              "      <td>0</td>\n",
              "      <td>0</td>\n",
              "      <td>1.0</td>\n",
              "      <td>0.0</td>\n",
              "      <td>0</td>\n",
              "      <td>0</td>\n",
              "    </tr>\n",
              "    <tr>\n",
              "      <th>5</th>\n",
              "      <td>5</td>\n",
              "      <td>3.0</td>\n",
              "      <td>1.0</td>\n",
              "      <td>0.0</td>\n",
              "      <td>1.0</td>\n",
              "      <td>0.0</td>\n",
              "      <td>1.0</td>\n",
              "      <td>0.0</td>\n",
              "      <td>0.0</td>\n",
              "      <td>1.0</td>\n",
              "      <td>...</td>\n",
              "      <td>2</td>\n",
              "      <td>0</td>\n",
              "      <td>1</td>\n",
              "      <td>0</td>\n",
              "      <td>0</td>\n",
              "      <td>0</td>\n",
              "      <td>2.0</td>\n",
              "      <td>3.0</td>\n",
              "      <td>0</td>\n",
              "      <td>0</td>\n",
              "    </tr>\n",
              "  </tbody>\n",
              "</table>\n",
              "<p>5 rows × 32 columns</p>\n",
              "</div>\n",
              "    <div class=\"colab-df-buttons\">\n",
              "\n",
              "  <div class=\"colab-df-container\">\n",
              "    <button class=\"colab-df-convert\" onclick=\"convertToInteractive('df-062e82cd-5bbd-4c65-862f-41983eb8b22c')\"\n",
              "            title=\"Convert this dataframe to an interactive table.\"\n",
              "            style=\"display:none;\">\n",
              "\n",
              "  <svg xmlns=\"http://www.w3.org/2000/svg\" height=\"24px\" viewBox=\"0 -960 960 960\">\n",
              "    <path d=\"M120-120v-720h720v720H120Zm60-500h600v-160H180v160Zm220 220h160v-160H400v160Zm0 220h160v-160H400v160ZM180-400h160v-160H180v160Zm440 0h160v-160H620v160ZM180-180h160v-160H180v160Zm440 0h160v-160H620v160Z\"/>\n",
              "  </svg>\n",
              "    </button>\n",
              "\n",
              "  <style>\n",
              "    .colab-df-container {\n",
              "      display:flex;\n",
              "      gap: 12px;\n",
              "    }\n",
              "\n",
              "    .colab-df-convert {\n",
              "      background-color: #E8F0FE;\n",
              "      border: none;\n",
              "      border-radius: 50%;\n",
              "      cursor: pointer;\n",
              "      display: none;\n",
              "      fill: #1967D2;\n",
              "      height: 32px;\n",
              "      padding: 0 0 0 0;\n",
              "      width: 32px;\n",
              "    }\n",
              "\n",
              "    .colab-df-convert:hover {\n",
              "      background-color: #E2EBFA;\n",
              "      box-shadow: 0px 1px 2px rgba(60, 64, 67, 0.3), 0px 1px 3px 1px rgba(60, 64, 67, 0.15);\n",
              "      fill: #174EA6;\n",
              "    }\n",
              "\n",
              "    .colab-df-buttons div {\n",
              "      margin-bottom: 4px;\n",
              "    }\n",
              "\n",
              "    [theme=dark] .colab-df-convert {\n",
              "      background-color: #3B4455;\n",
              "      fill: #D2E3FC;\n",
              "    }\n",
              "\n",
              "    [theme=dark] .colab-df-convert:hover {\n",
              "      background-color: #434B5C;\n",
              "      box-shadow: 0px 1px 3px 1px rgba(0, 0, 0, 0.15);\n",
              "      filter: drop-shadow(0px 1px 2px rgba(0, 0, 0, 0.3));\n",
              "      fill: #FFFFFF;\n",
              "    }\n",
              "  </style>\n",
              "\n",
              "    <script>\n",
              "      const buttonEl =\n",
              "        document.querySelector('#df-062e82cd-5bbd-4c65-862f-41983eb8b22c button.colab-df-convert');\n",
              "      buttonEl.style.display =\n",
              "        google.colab.kernel.accessAllowed ? 'block' : 'none';\n",
              "\n",
              "      async function convertToInteractive(key) {\n",
              "        const element = document.querySelector('#df-062e82cd-5bbd-4c65-862f-41983eb8b22c');\n",
              "        const dataTable =\n",
              "          await google.colab.kernel.invokeFunction('convertToInteractive',\n",
              "                                                    [key], {});\n",
              "        if (!dataTable) return;\n",
              "\n",
              "        const docLinkHtml = 'Like what you see? Visit the ' +\n",
              "          '<a target=\"_blank\" href=https://colab.research.google.com/notebooks/data_table.ipynb>data table notebook</a>'\n",
              "          + ' to learn more about interactive tables.';\n",
              "        element.innerHTML = '';\n",
              "        dataTable['output_type'] = 'display_data';\n",
              "        await google.colab.output.renderOutput(dataTable, element);\n",
              "        const docLink = document.createElement('div');\n",
              "        docLink.innerHTML = docLinkHtml;\n",
              "        element.appendChild(docLink);\n",
              "      }\n",
              "    </script>\n",
              "  </div>\n",
              "\n",
              "\n",
              "<div id=\"df-0912f60f-325a-407b-9e4a-1783c71e6ea8\">\n",
              "  <button class=\"colab-df-quickchart\" onclick=\"quickchart('df-0912f60f-325a-407b-9e4a-1783c71e6ea8')\"\n",
              "            title=\"Suggest charts\"\n",
              "            style=\"display:none;\">\n",
              "\n",
              "<svg xmlns=\"http://www.w3.org/2000/svg\" height=\"24px\"viewBox=\"0 0 24 24\"\n",
              "     width=\"24px\">\n",
              "    <g>\n",
              "        <path d=\"M19 3H5c-1.1 0-2 .9-2 2v14c0 1.1.9 2 2 2h14c1.1 0 2-.9 2-2V5c0-1.1-.9-2-2-2zM9 17H7v-7h2v7zm4 0h-2V7h2v10zm4 0h-2v-4h2v4z\"/>\n",
              "    </g>\n",
              "</svg>\n",
              "  </button>\n",
              "\n",
              "<style>\n",
              "  .colab-df-quickchart {\n",
              "      --bg-color: #E8F0FE;\n",
              "      --fill-color: #1967D2;\n",
              "      --hover-bg-color: #E2EBFA;\n",
              "      --hover-fill-color: #174EA6;\n",
              "      --disabled-fill-color: #AAA;\n",
              "      --disabled-bg-color: #DDD;\n",
              "  }\n",
              "\n",
              "  [theme=dark] .colab-df-quickchart {\n",
              "      --bg-color: #3B4455;\n",
              "      --fill-color: #D2E3FC;\n",
              "      --hover-bg-color: #434B5C;\n",
              "      --hover-fill-color: #FFFFFF;\n",
              "      --disabled-bg-color: #3B4455;\n",
              "      --disabled-fill-color: #666;\n",
              "  }\n",
              "\n",
              "  .colab-df-quickchart {\n",
              "    background-color: var(--bg-color);\n",
              "    border: none;\n",
              "    border-radius: 50%;\n",
              "    cursor: pointer;\n",
              "    display: none;\n",
              "    fill: var(--fill-color);\n",
              "    height: 32px;\n",
              "    padding: 0;\n",
              "    width: 32px;\n",
              "  }\n",
              "\n",
              "  .colab-df-quickchart:hover {\n",
              "    background-color: var(--hover-bg-color);\n",
              "    box-shadow: 0 1px 2px rgba(60, 64, 67, 0.3), 0 1px 3px 1px rgba(60, 64, 67, 0.15);\n",
              "    fill: var(--button-hover-fill-color);\n",
              "  }\n",
              "\n",
              "  .colab-df-quickchart-complete:disabled,\n",
              "  .colab-df-quickchart-complete:disabled:hover {\n",
              "    background-color: var(--disabled-bg-color);\n",
              "    fill: var(--disabled-fill-color);\n",
              "    box-shadow: none;\n",
              "  }\n",
              "\n",
              "  .colab-df-spinner {\n",
              "    border: 2px solid var(--fill-color);\n",
              "    border-color: transparent;\n",
              "    border-bottom-color: var(--fill-color);\n",
              "    animation:\n",
              "      spin 1s steps(1) infinite;\n",
              "  }\n",
              "\n",
              "  @keyframes spin {\n",
              "    0% {\n",
              "      border-color: transparent;\n",
              "      border-bottom-color: var(--fill-color);\n",
              "      border-left-color: var(--fill-color);\n",
              "    }\n",
              "    20% {\n",
              "      border-color: transparent;\n",
              "      border-left-color: var(--fill-color);\n",
              "      border-top-color: var(--fill-color);\n",
              "    }\n",
              "    30% {\n",
              "      border-color: transparent;\n",
              "      border-left-color: var(--fill-color);\n",
              "      border-top-color: var(--fill-color);\n",
              "      border-right-color: var(--fill-color);\n",
              "    }\n",
              "    40% {\n",
              "      border-color: transparent;\n",
              "      border-right-color: var(--fill-color);\n",
              "      border-top-color: var(--fill-color);\n",
              "    }\n",
              "    60% {\n",
              "      border-color: transparent;\n",
              "      border-right-color: var(--fill-color);\n",
              "    }\n",
              "    80% {\n",
              "      border-color: transparent;\n",
              "      border-right-color: var(--fill-color);\n",
              "      border-bottom-color: var(--fill-color);\n",
              "    }\n",
              "    90% {\n",
              "      border-color: transparent;\n",
              "      border-bottom-color: var(--fill-color);\n",
              "    }\n",
              "  }\n",
              "</style>\n",
              "\n",
              "  <script>\n",
              "    async function quickchart(key) {\n",
              "      const quickchartButtonEl =\n",
              "        document.querySelector('#' + key + ' button');\n",
              "      quickchartButtonEl.disabled = true;  // To prevent multiple clicks.\n",
              "      quickchartButtonEl.classList.add('colab-df-spinner');\n",
              "      try {\n",
              "        const charts = await google.colab.kernel.invokeFunction(\n",
              "            'suggestCharts', [key], {});\n",
              "      } catch (error) {\n",
              "        console.error('Error during call to suggestCharts:', error);\n",
              "      }\n",
              "      quickchartButtonEl.classList.remove('colab-df-spinner');\n",
              "      quickchartButtonEl.classList.add('colab-df-quickchart-complete');\n",
              "    }\n",
              "    (() => {\n",
              "      let quickchartButtonEl =\n",
              "        document.querySelector('#df-0912f60f-325a-407b-9e4a-1783c71e6ea8 button');\n",
              "      quickchartButtonEl.style.display =\n",
              "        google.colab.kernel.accessAllowed ? 'block' : 'none';\n",
              "    })();\n",
              "  </script>\n",
              "</div>\n",
              "\n",
              "    </div>\n",
              "  </div>\n"
            ],
            "application/vnd.google.colaboratory.intrinsic+json": {
              "type": "dataframe",
              "variable_name": "df"
            }
          },
          "metadata": {},
          "execution_count": 2
        }
      ],
      "source": [
        "import pandas as pd\n",
        "df1 = pd.read_csv(\"training_set_features.csv\")\n",
        "df2 = pd.read_csv(\"training_set_labels.csv\")\n",
        "df = pd.concat([df1,df2.drop(columns=\"respondent_id\")],axis=1)\n",
        "remove_cols = [\"health_insurance\",\"employment_industry\",\"employment_occupation\",'income_poverty']\n",
        "df.drop(columns=remove_cols,inplace=True)\n",
        "df.dropna(inplace=True)\n",
        "df.drop(columns=\"hhs_geo_region\",inplace=True)\n",
        "df[\"rent_or_own\"] = df[\"rent_or_own\"].map({\"Rent\":1,\"Own\":0})\n",
        "df[\"employment_status\"] = df[\"employment_status\"].map({\"Employed\":0,\"Unemployed\":1,\"Not in Labor Force\":2})\n",
        "df.drop(columns=\"census_msa\",inplace=True)\n",
        "df[\"marital_status\"] = df[\"marital_status\"].map({\"Not Married\":1,\"Married\":0})\n",
        "df[\"sex\"] = df[\"sex\"].map({\"Male\":1,\"Female\":0})\n",
        "race_dict = {'White':0,'Black':1,'Hispanic':2,'Other or Multiple':3}\n",
        "df[\"race\"] = df[\"race\"].map(race_dict)\n",
        "edu_dict = {'College Graduate':0,'Some College':1,'12 Years':2,'< 12 Years':3}\n",
        "df[\"education\"] = df[\"education\"].map(edu_dict)\n",
        "age_dict = {'65+ Years':0,'55 - 64 Years':1,'45 - 54 Years':2,'35 - 44 Years':3,'18 - 34 Years':4}\n",
        "df[\"age_group\"] = df[\"age_group\"].map(age_dict)\n",
        "df.head()"
      ]
    },
    {
      "cell_type": "code",
      "source": [
        "def wrangle(df):\n",
        "  remove_cols = [\"health_insurance\",\"employment_industry\",\"employment_occupation\",'income_poverty']\n",
        "  df.drop(columns=remove_cols,inplace=True)\n",
        "  df.dropna(inplace=True)\n",
        "  df.drop(columns=\"hhs_geo_region\",inplace=True)\n",
        "  df[\"rent_or_own\"] = df[\"rent_or_own\"].map({\"Rent\":1,\"Own\":0})\n",
        "  df[\"employment_status\"] = df[\"employment_status\"].map({\"Employed\":0,\"Unemployed\":1,\"Not in Labor Force\":2})\n",
        "  df.drop(columns=\"census_msa\",inplace=True)\n",
        "  df[\"marital_status\"] = df[\"marital_status\"].map({\"Not Married\":1,\"Married\":0})\n",
        "  df[\"sex\"] = df[\"sex\"].map({\"Male\":1,\"Female\":0})\n",
        "  race_dict = {'White':0,'Black':1,'Hispanic':2,'Other or Multiple':3}\n",
        "  df[\"race\"] = df[\"race\"].map(race_dict)\n",
        "  edu_dict = {'College Graduate':0,'Some College':1,'12 Years':2,'< 12 Years':3}\n",
        "  df[\"education\"] = df[\"education\"].map(edu_dict)\n",
        "  age_dict = {'65+ Years':0,'55 - 64 Years':1,'45 - 54 Years':2,'35 - 44 Years':3,'18 - 34 Years':4}\n",
        "  df[\"age_group\"] = df[\"age_group\"].map(age_dict)\n",
        "  return df"
      ],
      "metadata": {
        "id": "V8sF22dWfUw5"
      },
      "execution_count": null,
      "outputs": []
    },
    {
      "cell_type": "code",
      "source": [
        "df.isna().sum() #26707"
      ],
      "metadata": {
        "colab": {
          "base_uri": "https://localhost:8080/"
        },
        "id": "dF7X5MhSiM6P",
        "outputId": "068b49af-6cd5-4f7e-c2ee-db3d3eaf056f"
      },
      "execution_count": null,
      "outputs": [
        {
          "output_type": "execute_result",
          "data": {
            "text/plain": [
              "respondent_id                  0\n",
              "xyz_concern                    0\n",
              "xyz_knowledge                  0\n",
              "behavioral_antiviral_meds      0\n",
              "behavioral_avoidance           0\n",
              "behavioral_face_mask           0\n",
              "behavioral_wash_hands          0\n",
              "behavioral_large_gatherings    0\n",
              "behavioral_outside_home        0\n",
              "behavioral_touch_face          0\n",
              "doctor_recc_xyz                0\n",
              "doctor_recc_seasonal           0\n",
              "chronic_med_condition          0\n",
              "child_under_6_months           0\n",
              "health_worker                  0\n",
              "opinion_xyz_vacc_effective     0\n",
              "opinion_xyz_risk               0\n",
              "opinion_xyz_sick_from_vacc     0\n",
              "opinion_seas_vacc_effective    0\n",
              "opinion_seas_risk              0\n",
              "opinion_seas_sick_from_vacc    0\n",
              "age_group                      0\n",
              "education                      0\n",
              "race                           0\n",
              "sex                            0\n",
              "marital_status                 0\n",
              "rent_or_own                    0\n",
              "employment_status              0\n",
              "hhs_geo_region                 0\n",
              "census_msa                     0\n",
              "household_adults               0\n",
              "household_children             0\n",
              "xyz_vaccine                    0\n",
              "seasonal_vaccine               0\n",
              "dtype: int64"
            ]
          },
          "metadata": {},
          "execution_count": 30
        }
      ]
    },
    {
      "cell_type": "code",
      "source": [
        "df.dropna(inplace=True)"
      ],
      "metadata": {
        "id": "Ls-_oliqikWC"
      },
      "execution_count": null,
      "outputs": []
    },
    {
      "cell_type": "code",
      "source": [
        "df.info()"
      ],
      "metadata": {
        "colab": {
          "base_uri": "https://localhost:8080/"
        },
        "id": "ZE75rzDWi3B7",
        "outputId": "c84de459-9166-407d-cc12-adeacc19e5c1"
      },
      "execution_count": null,
      "outputs": [
        {
          "output_type": "stream",
          "name": "stdout",
          "text": [
            "<class 'pandas.core.frame.DataFrame'>\n",
            "Index: 21710 entries, 0 to 26706\n",
            "Data columns (total 32 columns):\n",
            " #   Column                       Non-Null Count  Dtype  \n",
            "---  ------                       --------------  -----  \n",
            " 0   respondent_id                21710 non-null  int64  \n",
            " 1   xyz_concern                  21710 non-null  float64\n",
            " 2   xyz_knowledge                21710 non-null  float64\n",
            " 3   behavioral_antiviral_meds    21710 non-null  float64\n",
            " 4   behavioral_avoidance         21710 non-null  float64\n",
            " 5   behavioral_face_mask         21710 non-null  float64\n",
            " 6   behavioral_wash_hands        21710 non-null  float64\n",
            " 7   behavioral_large_gatherings  21710 non-null  float64\n",
            " 8   behavioral_outside_home      21710 non-null  float64\n",
            " 9   behavioral_touch_face        21710 non-null  float64\n",
            " 10  doctor_recc_xyz              21710 non-null  float64\n",
            " 11  doctor_recc_seasonal         21710 non-null  float64\n",
            " 12  chronic_med_condition        21710 non-null  float64\n",
            " 13  child_under_6_months         21710 non-null  float64\n",
            " 14  health_worker                21710 non-null  float64\n",
            " 15  opinion_xyz_vacc_effective   21710 non-null  float64\n",
            " 16  opinion_xyz_risk             21710 non-null  float64\n",
            " 17  opinion_xyz_sick_from_vacc   21710 non-null  float64\n",
            " 18  opinion_seas_vacc_effective  21710 non-null  float64\n",
            " 19  opinion_seas_risk            21710 non-null  float64\n",
            " 20  opinion_seas_sick_from_vacc  21710 non-null  float64\n",
            " 21  age_group                    21710 non-null  int64  \n",
            " 22  education                    21710 non-null  int64  \n",
            " 23  race                         21710 non-null  int64  \n",
            " 24  sex                          21710 non-null  int64  \n",
            " 25  marital_status               21710 non-null  int64  \n",
            " 26  rent_or_own                  21710 non-null  int64  \n",
            " 27  employment_status            21710 non-null  int64  \n",
            " 28  household_adults             21710 non-null  float64\n",
            " 29  household_children           21710 non-null  float64\n",
            " 30  xyz_vaccine                  21710 non-null  int64  \n",
            " 31  seasonal_vaccine             21710 non-null  int64  \n",
            "dtypes: float64(22), int64(10)\n",
            "memory usage: 5.5 MB\n"
          ]
        }
      ]
    },
    {
      "cell_type": "code",
      "source": [
        "age_dict = {'65+ Years':0,'55 - 64 Years':1,'45 - 54 Years':2,'35 - 44 Years':3,'18 - 34 Years':4}\n",
        "df[\"age_group\"] = df[\"age_group\"].map(age_dict)\n",
        "df['age_group'].value_counts()"
      ],
      "metadata": {
        "colab": {
          "base_uri": "https://localhost:8080/"
        },
        "id": "EkruOjX_jjDy",
        "outputId": "7df2fa86-81a3-4308-8d63-3eadb1330ea2"
      },
      "execution_count": null,
      "outputs": [
        {
          "output_type": "execute_result",
          "data": {
            "text/plain": [
              "age_group\n",
              "0    5359\n",
              "1    4629\n",
              "2    4354\n",
              "4    4250\n",
              "3    3118\n",
              "Name: count, dtype: int64"
            ]
          },
          "metadata": {},
          "execution_count": 32
        }
      ]
    },
    {
      "cell_type": "code",
      "source": [
        "edu_dict = {'College Graduate':0,'Some College':1,'12 Years':2,'< 12 Years':3}\n",
        "df[\"education\"] = df[\"education\"].map(edu_dict)\n",
        "df[\"education\"].value_counts()"
      ],
      "metadata": {
        "colab": {
          "base_uri": "https://localhost:8080/"
        },
        "id": "lahpxkBakXJY",
        "outputId": "dcc49f69-8523-4546-d9bc-c2369cd094c1"
      },
      "execution_count": null,
      "outputs": [
        {
          "output_type": "execute_result",
          "data": {
            "text/plain": [
              "education\n",
              "0    8777\n",
              "1    6085\n",
              "2    4928\n",
              "3    1920\n",
              "Name: count, dtype: int64"
            ]
          },
          "metadata": {},
          "execution_count": 34
        }
      ]
    },
    {
      "cell_type": "code",
      "source": [
        "race_dict = {'White':0,'Black':1,'Hispanic':2,'Other or Multiple':3}\n",
        "df[\"race\"] = df[\"race\"].map(race_dict)\n",
        "df[\"race\"].value_counts()"
      ],
      "metadata": {
        "colab": {
          "base_uri": "https://localhost:8080/"
        },
        "id": "AvOdF0KQkfF-",
        "outputId": "af830e83-ffbc-439b-f5cb-aaf476db45ee"
      },
      "execution_count": null,
      "outputs": [
        {
          "output_type": "execute_result",
          "data": {
            "text/plain": [
              "race\n",
              "0    17372\n",
              "1     1658\n",
              "2     1423\n",
              "3     1257\n",
              "Name: count, dtype: int64"
            ]
          },
          "metadata": {},
          "execution_count": 38
        }
      ]
    },
    {
      "cell_type": "code",
      "source": [
        "df[\"sex\"] = df[\"sex\"].map({\"Male\":1,\"Female\":0})\n",
        "df[\"sex\"].value_counts()"
      ],
      "metadata": {
        "colab": {
          "base_uri": "https://localhost:8080/"
        },
        "id": "BoPbXpdHw6qI",
        "outputId": "7e0e9460-fe94-4a98-8803-0e00aacb4cc3"
      },
      "execution_count": null,
      "outputs": [
        {
          "output_type": "execute_result",
          "data": {
            "text/plain": [
              "sex\n",
              "0    13018\n",
              "1     8692\n",
              "Name: count, dtype: int64"
            ]
          },
          "metadata": {},
          "execution_count": 37
        }
      ]
    },
    {
      "cell_type": "code",
      "source": [
        "df[\"marital_status\"] = df[\"marital_status\"].map({\"Not Married\":1,\"Married\":0})\n",
        "df[\"marital_status\"].value_counts()"
      ],
      "metadata": {
        "colab": {
          "base_uri": "https://localhost:8080/"
        },
        "id": "3c_DvMglxJ2A",
        "outputId": "a950a7f3-ab7f-4f3a-bd08-d993a1a9f08f"
      },
      "execution_count": null,
      "outputs": [
        {
          "output_type": "execute_result",
          "data": {
            "text/plain": [
              "marital_status\n",
              "0    11758\n",
              "1     9952\n",
              "Name: count, dtype: int64"
            ]
          },
          "metadata": {},
          "execution_count": 40
        }
      ]
    },
    {
      "cell_type": "code",
      "source": [
        "df.drop(columns=\"hhs_geo_region\",inplace=True)\n",
        "df[\"rent_or_own\"] = df[\"rent_or_own\"].map({\"Rent\":1,\"Own\":0})\n",
        "df[\"rent_or_own\"].value_counts()"
      ],
      "metadata": {
        "colab": {
          "base_uri": "https://localhost:8080/"
        },
        "id": "Q6uH0ysFzqej",
        "outputId": "dba9cbde-756f-48af-bc36-c88309961758"
      },
      "execution_count": null,
      "outputs": [
        {
          "output_type": "execute_result",
          "data": {
            "text/plain": [
              "rent_or_own\n",
              "0    16541\n",
              "1     5169\n",
              "Name: count, dtype: int64"
            ]
          },
          "metadata": {},
          "execution_count": 42
        }
      ]
    },
    {
      "cell_type": "code",
      "source": [
        "df[\"employment_status\"] = df[\"employment_status\"].map({\"Employed\":0,\"Unemployed\":1,\"Not in Labor Force\":2})\n",
        "df[\"employment_status\"].value_counts()"
      ],
      "metadata": {
        "colab": {
          "base_uri": "https://localhost:8080/"
        },
        "id": "NYmGSdGAz64U",
        "outputId": "19284199-a13c-4658-db10-da087f9cbc6b"
      },
      "execution_count": null,
      "outputs": [
        {
          "output_type": "execute_result",
          "data": {
            "text/plain": [
              "employment_status\n",
              "0    11850\n",
              "2     8595\n",
              "1     1265\n",
              "Name: count, dtype: int64"
            ]
          },
          "metadata": {},
          "execution_count": 44
        }
      ]
    },
    {
      "cell_type": "code",
      "source": [
        "df.drop(columns=\"census_msa\",inplace=True)"
      ],
      "metadata": {
        "id": "-YiqKbO50QSz"
      },
      "execution_count": null,
      "outputs": []
    },
    {
      "cell_type": "code",
      "source": [
        "from sklearn.model_selection import train_test_split\n",
        "from sklearn.naive_bayes import GaussianNB\n",
        "from sklearn.linear_model import LogisticRegression\n",
        "\n",
        "target1 = \"xyz_vaccine\"\n",
        "target2 = \"seasonal_vaccine\"\n",
        "X = df.drop(columns=[\"xyz_vaccine\",\"seasonal_vaccine\"])\n",
        "y1 = df[target1]\n",
        "y2 = df[target2]\n",
        "final1 = GaussianNB()\n",
        "final1.fit(X,y1)\n",
        "final2 = LogisticRegression(max_iter=120)\n",
        "final2.fit(X,y2)\n"
      ],
      "metadata": {
        "colab": {
          "base_uri": "https://localhost:8080/",
          "height": 74
        },
        "id": "5RzcdjVXdOQg",
        "outputId": "8e52e20a-d0b7-4517-b391-66273c0862ce"
      },
      "execution_count": null,
      "outputs": [
        {
          "output_type": "execute_result",
          "data": {
            "text/plain": [
              "LogisticRegression(max_iter=120)"
            ],
            "text/html": [
              "<style>#sk-container-id-13 {color: black;background-color: white;}#sk-container-id-13 pre{padding: 0;}#sk-container-id-13 div.sk-toggleable {background-color: white;}#sk-container-id-13 label.sk-toggleable__label {cursor: pointer;display: block;width: 100%;margin-bottom: 0;padding: 0.3em;box-sizing: border-box;text-align: center;}#sk-container-id-13 label.sk-toggleable__label-arrow:before {content: \"▸\";float: left;margin-right: 0.25em;color: #696969;}#sk-container-id-13 label.sk-toggleable__label-arrow:hover:before {color: black;}#sk-container-id-13 div.sk-estimator:hover label.sk-toggleable__label-arrow:before {color: black;}#sk-container-id-13 div.sk-toggleable__content {max-height: 0;max-width: 0;overflow: hidden;text-align: left;background-color: #f0f8ff;}#sk-container-id-13 div.sk-toggleable__content pre {margin: 0.2em;color: black;border-radius: 0.25em;background-color: #f0f8ff;}#sk-container-id-13 input.sk-toggleable__control:checked~div.sk-toggleable__content {max-height: 200px;max-width: 100%;overflow: auto;}#sk-container-id-13 input.sk-toggleable__control:checked~label.sk-toggleable__label-arrow:before {content: \"▾\";}#sk-container-id-13 div.sk-estimator input.sk-toggleable__control:checked~label.sk-toggleable__label {background-color: #d4ebff;}#sk-container-id-13 div.sk-label input.sk-toggleable__control:checked~label.sk-toggleable__label {background-color: #d4ebff;}#sk-container-id-13 input.sk-hidden--visually {border: 0;clip: rect(1px 1px 1px 1px);clip: rect(1px, 1px, 1px, 1px);height: 1px;margin: -1px;overflow: hidden;padding: 0;position: absolute;width: 1px;}#sk-container-id-13 div.sk-estimator {font-family: monospace;background-color: #f0f8ff;border: 1px dotted black;border-radius: 0.25em;box-sizing: border-box;margin-bottom: 0.5em;}#sk-container-id-13 div.sk-estimator:hover {background-color: #d4ebff;}#sk-container-id-13 div.sk-parallel-item::after {content: \"\";width: 100%;border-bottom: 1px solid gray;flex-grow: 1;}#sk-container-id-13 div.sk-label:hover label.sk-toggleable__label {background-color: #d4ebff;}#sk-container-id-13 div.sk-serial::before {content: \"\";position: absolute;border-left: 1px solid gray;box-sizing: border-box;top: 0;bottom: 0;left: 50%;z-index: 0;}#sk-container-id-13 div.sk-serial {display: flex;flex-direction: column;align-items: center;background-color: white;padding-right: 0.2em;padding-left: 0.2em;position: relative;}#sk-container-id-13 div.sk-item {position: relative;z-index: 1;}#sk-container-id-13 div.sk-parallel {display: flex;align-items: stretch;justify-content: center;background-color: white;position: relative;}#sk-container-id-13 div.sk-item::before, #sk-container-id-13 div.sk-parallel-item::before {content: \"\";position: absolute;border-left: 1px solid gray;box-sizing: border-box;top: 0;bottom: 0;left: 50%;z-index: -1;}#sk-container-id-13 div.sk-parallel-item {display: flex;flex-direction: column;z-index: 1;position: relative;background-color: white;}#sk-container-id-13 div.sk-parallel-item:first-child::after {align-self: flex-end;width: 50%;}#sk-container-id-13 div.sk-parallel-item:last-child::after {align-self: flex-start;width: 50%;}#sk-container-id-13 div.sk-parallel-item:only-child::after {width: 0;}#sk-container-id-13 div.sk-dashed-wrapped {border: 1px dashed gray;margin: 0 0.4em 0.5em 0.4em;box-sizing: border-box;padding-bottom: 0.4em;background-color: white;}#sk-container-id-13 div.sk-label label {font-family: monospace;font-weight: bold;display: inline-block;line-height: 1.2em;}#sk-container-id-13 div.sk-label-container {text-align: center;}#sk-container-id-13 div.sk-container {/* jupyter's `normalize.less` sets `[hidden] { display: none; }` but bootstrap.min.css set `[hidden] { display: none !important; }` so we also need the `!important` here to be able to override the default hidden behavior on the sphinx rendered scikit-learn.org. See: https://github.com/scikit-learn/scikit-learn/issues/21755 */display: inline-block !important;position: relative;}#sk-container-id-13 div.sk-text-repr-fallback {display: none;}</style><div id=\"sk-container-id-13\" class=\"sk-top-container\"><div class=\"sk-text-repr-fallback\"><pre>LogisticRegression(max_iter=120)</pre><b>In a Jupyter environment, please rerun this cell to show the HTML representation or trust the notebook. <br />On GitHub, the HTML representation is unable to render, please try loading this page with nbviewer.org.</b></div><div class=\"sk-container\" hidden><div class=\"sk-item\"><div class=\"sk-estimator sk-toggleable\"><input class=\"sk-toggleable__control sk-hidden--visually\" id=\"sk-estimator-id-13\" type=\"checkbox\" checked><label for=\"sk-estimator-id-13\" class=\"sk-toggleable__label sk-toggleable__label-arrow\">LogisticRegression</label><div class=\"sk-toggleable__content\"><pre>LogisticRegression(max_iter=120)</pre></div></div></div></div></div>"
            ]
          },
          "metadata": {},
          "execution_count": 39
        }
      ]
    },
    {
      "cell_type": "code",
      "source": [
        "test_set = wrangle(pd.read_csv(\"test_set_features.csv\"))\n",
        "a1 = pd.Series(final1.predict_proba(test_set)[:,1].round(3))\n",
        "a2 = pd.Series(final2.predict_proba(test_set)[:,1].round(3))\n",
        "a0 = test_set[\"respondent_id\"].astype(int)\n",
        "test_sub = pd.concat({\"respondent_id\":a0,\"xyz_vaccine\":a1,\"seasonal_vaccine\":a2},axis=1)\n",
        "test_sub.set_index(\"respondent_id\",inplace=True)\n",
        "print(test_sub.head())\n",
        "test_sub.to_csv(\"ArnavAgarwalSubmission1.csv\")"
      ],
      "metadata": {
        "colab": {
          "base_uri": "https://localhost:8080/"
        },
        "id": "dpphSfyvfED8",
        "outputId": "ad6e8564-29f9-4ab5-de19-1ca387e56f90"
      },
      "execution_count": null,
      "outputs": [
        {
          "output_type": "stream",
          "name": "stdout",
          "text": [
            "               xyz_vaccine  seasonal_vaccine\n",
            "respondent_id                               \n",
            "26707.0              0.025             0.159\n",
            "26708.0              0.000             0.035\n",
            "26709.0              0.842             0.644\n",
            "26710.0              0.313             0.903\n",
            "26711.0              0.732             0.351\n"
          ]
        }
      ]
    },
    {
      "cell_type": "code",
      "source": [
        "from sklearn.model_selection import train_test_split\n",
        "\n",
        "target = \"seasonal_vaccine\"\n",
        "X = df.drop(columns=[\"xyz_vaccine\",\"seasonal_vaccine\"])\n",
        "y = df[target]\n",
        "X_train,X_test,y_train,y_test = train_test_split(X,y,test_size=0.2,random_state=42)"
      ],
      "metadata": {
        "id": "SEKNMalA1FKJ"
      },
      "execution_count": null,
      "outputs": []
    },
    {
      "cell_type": "code",
      "source": [
        "from sklearn.linear_model import Ridge\n",
        "from sklearn.metrics import accuracy_score\n",
        "from sklearn.metrics import roc_auc_score\n",
        "\n",
        "model1 = Ridge()\n",
        "model1.fit(X_train,y_train)\n",
        "y1_pred_train = [1 if x > 0.5 else 0 for x in model1.predict(X_train) ]\n",
        "print(\"Train : \",accuracy_score(y_train,y1_pred_train))\n",
        "print(\"Train ROC AUC : \",roc_auc_score(y_train,y1_pred_train))\n",
        "\n",
        "y1_pred_test = [1 if y > 0.5 else 0 for y in model1.predict(X_test)]\n",
        "print(\"Test : \",accuracy_score(y_test,y1_pred_test))\n",
        "print(\"Test ROC AUC: \",roc_auc_score(y_test,y1_pred_test))"
      ],
      "metadata": {
        "colab": {
          "base_uri": "https://localhost:8080/"
        },
        "id": "n_XAP4m46NKK",
        "outputId": "3a5ca870-8b32-49be-991a-f425079b82df"
      },
      "execution_count": null,
      "outputs": [
        {
          "output_type": "stream",
          "name": "stdout",
          "text": [
            "Train :  0.7808037770612621\n",
            "Train ROC AUC :  0.779593696744864\n",
            "Test :  0.7795946568401658\n",
            "Test ROC AUC:  0.7780789566353481\n"
          ]
        }
      ]
    },
    {
      "cell_type": "code",
      "source": [
        "from sklearn.svm import SVC\n",
        "model2 = SVC()\n",
        "model2.fit(X_train,y_train)\n",
        "y2_pred_train = model2.predict(X_train)\n",
        "print(\"Train ROC AUC: \",roc_auc_score(y_train,y2_pred_train))\n",
        "print(\"Test ROC AUC: \",roc_auc_score(y_test,model2.predict(X_test)))\n",
        "#print(model2.predict_proba(X_test))"
      ],
      "metadata": {
        "colab": {
          "base_uri": "https://localhost:8080/"
        },
        "id": "RfuaQ9n0DdON",
        "outputId": "edec954e-6d45-434f-ae37-13eacea4fb21"
      },
      "execution_count": null,
      "outputs": [
        {
          "output_type": "stream",
          "name": "stdout",
          "text": [
            "Train ROC AUC:  0.5\n",
            "Test ROC AUC:  0.5\n"
          ]
        }
      ]
    },
    {
      "cell_type": "code",
      "source": [
        "from sklearn.linear_model import LogisticRegression\n",
        "model3 = LogisticRegression()\n",
        "model3.fit(X_train,y_train)\n",
        "print(\"Train acc : \",accuracy_score(y_train,model3.predict(X_train)))\n",
        "print(\"Train ROC AUC : \",roc_auc_score(y_train,model3.predict(X_train)))\n",
        "print(\"Test ROC AUC : \",roc_auc_score(y_test,model3.predict(X_test)))\n"
      ],
      "metadata": {
        "colab": {
          "base_uri": "https://localhost:8080/"
        },
        "id": "l6WcD5o_L8TD",
        "outputId": "8496358b-0f17-40cb-bdf8-9a0d601ef87e"
      },
      "execution_count": null,
      "outputs": [
        {
          "output_type": "stream",
          "name": "stdout",
          "text": [
            "Train acc :  0.7513242745278673\n",
            "Train ROC AUC :  0.7509150607770894\n",
            "Test ROC AUC :  0.750024879684398\n"
          ]
        }
      ]
    },
    {
      "cell_type": "code",
      "source": [
        "from sklearn.naive_bayes import GaussianNB\n",
        "\n",
        "model4 = GaussianNB()\n",
        "model4.fit(X_train,y_train)\n",
        "print(\"Train acc : \",accuracy_score(y_train,model4.predict(X_train)))\n",
        "print(\"Train ROC AUC : \",roc_auc_score(y_train,model4.predict(X_train)))\n",
        "print(\"Test ROC AUC : \",roc_auc_score(y_test,model4.predict(X_test)))"
      ],
      "metadata": {
        "colab": {
          "base_uri": "https://localhost:8080/"
        },
        "id": "nUZnTNtja-FD",
        "outputId": "11c91dd4-c203-4552-889b-4fea149fe62b"
      },
      "execution_count": null,
      "outputs": [
        {
          "output_type": "stream",
          "name": "stdout",
          "text": [
            "Train acc :  0.7481575310916628\n",
            "Train ROC AUC :  0.7479944302305679\n",
            "Test ROC AUC :  0.7394716405621362\n"
          ]
        }
      ]
    }
  ]
}